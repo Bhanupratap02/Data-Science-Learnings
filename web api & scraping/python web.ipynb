{
 "cells": [
  {
   "cell_type": "code",
   "execution_count": 8,
   "id": "e58fae42-3d90-48ad-be60-909241393323",
   "metadata": {},
   "outputs": [],
   "source": [
    "import requests"
   ]
  },
  {
   "cell_type": "code",
   "execution_count": 9,
   "id": "3d69b070-7f81-40d3-a2f1-8d4aba51de70",
   "metadata": {},
   "outputs": [],
   "source": [
    "fb_id = 668686"
   ]
  },
  {
   "cell_type": "code",
   "execution_count": 10,
   "id": "c1a9b299-d7f2-413d-a6b2-459adaa7333a",
   "metadata": {},
   "outputs": [],
   "source": [
    "url = \"https://graph.facebook.com/{}/picture?type=large\".format(fb_id)"
   ]
  },
  {
   "cell_type": "code",
   "execution_count": 11,
   "id": "e6a31adc-f9df-4857-9008-9c064c79041b",
   "metadata": {},
   "outputs": [
    {
     "data": {
      "text/plain": [
       "'https://graph.facebook.com/4/picture?type=large'"
      ]
     },
     "execution_count": 11,
     "metadata": {},
     "output_type": "execute_result"
    }
   ],
   "source": [
    "url"
   ]
  },
  {
   "cell_type": "code",
   "execution_count": 18,
   "id": "85d9b66e-6d39-43ae-b09a-abe8890f7ff6",
   "metadata": {},
   "outputs": [],
   "source": [
    "r = requests.get(url)"
   ]
  },
  {
   "cell_type": "code",
   "execution_count": 13,
   "id": "622c255f-00fd-44be-9bac-307f92f478e9",
   "metadata": {},
   "outputs": [
    {
     "data": {
      "text/plain": [
       "<Response [200]>"
      ]
     },
     "execution_count": 13,
     "metadata": {},
     "output_type": "execute_result"
    }
   ],
   "source": [
    "r"
   ]
  },
  {
   "cell_type": "code",
   "execution_count": 14,
   "id": "c0227ef2-6296-48b3-93f2-0cfd163599ed",
   "metadata": {},
   "outputs": [
    {
     "data": {
      "text/plain": [
       "requests.models.Response"
      ]
     },
     "execution_count": 14,
     "metadata": {},
     "output_type": "execute_result"
    }
   ],
   "source": [
    "type(r)"
   ]
  },
  {
   "cell_type": "code",
   "execution_count": 19,
   "id": "4072aaac-9274-44b9-9e77-621f07bbb511",
   "metadata": {},
   "outputs": [],
   "source": [
    "with open(\"profile.jpg\",\"wb\") as file:\n",
    "    file.write(r.content)"
   ]
  },
  {
   "cell_type": "markdown",
   "id": "43dea062-e5d8-4037-99ec-dff8a58d2aa9",
   "metadata": {},
   "source": [
    "### GOOGLE MAP GEO CODING API"
   ]
  },
  {
   "cell_type": "code",
   "execution_count": 8,
   "id": "6a783ab5-2e98-472b-b9f5-843730f62b98",
   "metadata": {},
   "outputs": [],
   "source": [
    "import requests"
   ]
  },
  {
   "cell_type": "code",
   "execution_count": 3,
   "id": "dc32e996-f845-43d4-a6cc-720aa66d4ee9",
   "metadata": {},
   "outputs": [],
   "source": [
    " url = \"https://maps.googleapis.com/maps/api/geocode/json\""
   ]
  },
  {
   "cell_type": "code",
   "execution_count": 4,
   "id": "dde3d156-1bb0-4ea1-8356-19f8c97552e8",
   "metadata": {},
   "outputs": [],
   "source": [
    "parameters = {\n",
    "    \"address\":\"bantala degree college angul\"\n",
    "}"
   ]
  },
  {
   "cell_type": "code",
   "execution_count": 9,
   "id": "0c9c0e6c-be72-43a7-8fa0-bd47146083b5",
   "metadata": {},
   "outputs": [],
   "source": [
    " r = requests.get(url,params = parameters)"
   ]
  },
  {
   "cell_type": "code",
   "execution_count": 10,
   "id": "d0797f15-e422-4ba9-a285-27955c3a1010",
   "metadata": {},
   "outputs": [
    {
     "data": {
      "text/plain": [
       "b'{\\n   \"error_message\" : \"You must use an API key to authenticate each request to Google Maps Platform APIs. For additional information, please refer to http://g.co/dev/maps-no-account\",\\n   \"results\" : [],\\n   \"status\" : \"REQUEST_DENIED\"\\n}'"
      ]
     },
     "execution_count": 10,
     "metadata": {},
     "output_type": "execute_result"
    }
   ],
   "source": [
    "r.content"
   ]
  },
  {
   "cell_type": "code",
   "execution_count": 11,
   "id": "a460870d-66e6-4621-8059-3117da58c5c0",
   "metadata": {},
   "outputs": [
    {
     "data": {
      "text/plain": [
       "'https://maps.googleapis.com/maps/api/geocode/json?address=bantala+degree+college+angul'"
      ]
     },
     "execution_count": 11,
     "metadata": {},
     "output_type": "execute_result"
    }
   ],
   "source": [
    "r.url"
   ]
  },
  {
   "cell_type": "markdown",
   "id": "6307d082-4265-4331-934f-d439f1bf75ac",
   "metadata": {},
   "source": [
    "### web scraping"
   ]
  },
  {
   "cell_type": "code",
   "execution_count": 12,
   "id": "37c5954b-fa67-43d5-9a3c-ca172dc3957e",
   "metadata": {},
   "outputs": [],
   "source": [
    "import requests\n",
    "import bs4"
   ]
  },
  {
   "cell_type": "code",
   "execution_count": 13,
   "id": "056dc363-41cb-4ba3-bd7b-62007370123d",
   "metadata": {},
   "outputs": [],
   "source": [
    "url = \"https://www.passiton.com/inspirational-quotes?page=2\""
   ]
  },
  {
   "cell_type": "code",
   "execution_count": 14,
   "id": "70305706-e384-4fe7-90ac-c7dcaf5e6f5f",
   "metadata": {},
   "outputs": [],
   "source": [
    "response = requests.get(url)"
   ]
  },
  {
   "cell_type": "code",
   "execution_count": 15,
   "id": "a4f4aa1a-6295-446a-88fa-d10ecb837c08",
   "metadata": {},
   "outputs": [],
   "source": [
    "soup = bs4.BeautifulSoup(response.content)"
   ]
  },
  {
   "cell_type": "code",
   "execution_count": 77,
   "id": "903602d2-4abd-4e9f-b591-ada8d62b3a83",
   "metadata": {},
   "outputs": [],
   "source": [
    "article = soup.findAll(\"img\",{\"class\":\"shadow\"})"
   ]
  },
  {
   "cell_type": "code",
   "execution_count": 80,
   "id": "56996356-dc07-48f1-ad3f-94307f17f145",
   "metadata": {},
   "outputs": [],
   "source": [
    "quotes = article[0]"
   ]
  },
  {
   "cell_type": "code",
   "execution_count": 82,
   "id": "50f37544-8285-4ac5-943f-bbf982751813",
   "metadata": {},
   "outputs": [
    {
     "data": {
      "text/plain": [
       "'https://assets.passiton.com/quotes/quote_artwork/6639/medium/20240530_thursday_quote.jpg'"
      ]
     },
     "execution_count": 82,
     "metadata": {},
     "output_type": "execute_result"
    }
   ],
   "source": [
    "quotes.attrs['src']"
   ]
  },
  {
   "cell_type": "code",
   "execution_count": 83,
   "id": "c13970f9-8dba-401f-b59c-a5eec87f3322",
   "metadata": {},
   "outputs": [],
   "source": [
    "with open(\"inspiration.jpg\",\"wb\") as file:\n",
    "    img_url = quotes.attrs['src']\n",
    "    response = requests.get(img_url)\n",
    "    file.write(response.content)"
   ]
  },
  {
   "cell_type": "code",
   "execution_count": 84,
   "id": "b7883d72-0654-4218-972a-380b432ebe1e",
   "metadata": {},
   "outputs": [],
   "source": [
    "for i,quote in enumerate(article):\n",
    "   with open(\"inspiration{}.jpg\".format(i),\"wb\") as file:\n",
    "       img_url = quote.attrs['src']\n",
    "       response = requests.get(img_url)\n",
    "       file.write(response.content)"
   ]
  },
  {
   "cell_type": "code",
   "execution_count": null,
   "id": "8556ed51-a1c3-4ec5-829f-c0e2c6da895e",
   "metadata": {},
   "outputs": [],
   "source": []
  }
 ],
 "metadata": {
  "kernelspec": {
   "display_name": "Python 3 (ipykernel)",
   "language": "python",
   "name": "python3"
  },
  "language_info": {
   "codemirror_mode": {
    "name": "ipython",
    "version": 3
   },
   "file_extension": ".py",
   "mimetype": "text/x-python",
   "name": "python",
   "nbconvert_exporter": "python",
   "pygments_lexer": "ipython3",
   "version": "3.10.9"
  },
  "widgets": {
   "application/vnd.jupyter.widget-state+json": {
    "state": {},
    "version_major": 2,
    "version_minor": 0
   }
  }
 },
 "nbformat": 4,
 "nbformat_minor": 5
}
