{
 "cells": [
  {
   "cell_type": "code",
   "execution_count": 9,
   "id": "1c5558dc-5311-4cb7-89ae-e966c24c3678",
   "metadata": {},
   "outputs": [],
   "source": [
    "from bs4 import BeautifulSoup as soup"
   ]
  },
  {
   "cell_type": "code",
   "execution_count": 2,
   "id": "63c0050b-dcb0-4940-9987-a0c7d60cc8b2",
   "metadata": {},
   "outputs": [],
   "source": [
    "import requests"
   ]
  },
  {
   "cell_type": "code",
   "execution_count": 3,
   "id": "d009200b-0ae5-41a9-a557-f0fb62ecfb37",
   "metadata": {},
   "outputs": [],
   "source": [
    "wiki_android_v_url = \"https://en.m.wikipedia.org/wiki/Android_version_history\""
   ]
  },
  {
   "cell_type": "code",
   "execution_count": 4,
   "id": "ce673671-1d7c-4434-9953-9526ab98e015",
   "metadata": {},
   "outputs": [],
   "source": [
    "res = requests.get(wiki_android_v_url)"
   ]
  },
  {
   "cell_type": "code",
   "execution_count": 8,
   "id": "de96a8ea-a253-4fc0-97ea-04ccce850d71",
   "metadata": {},
   "outputs": [],
   "source": [
    "res.close()"
   ]
  },
  {
   "cell_type": "code",
   "execution_count": 12,
   "id": "4678c096-6dc1-48d6-8813-63a469a8c562",
   "metadata": {},
   "outputs": [],
   "source": [
    "wiki_data = soup(res.content,\"html.parser\")\n"
   ]
  },
  {
   "cell_type": "code",
   "execution_count": 14,
   "id": "f109d99c-492f-4301-826f-92a794346250",
   "metadata": {},
   "outputs": [],
   "source": [
    "wiki_table = wiki_data.findAll(\"table\",{\"class\":\"wikitable\"})"
   ]
  },
  {
   "cell_type": "code",
   "execution_count": 16,
   "id": "ed2c8951-2e7f-4e84-8625-97c5f83bb6d2",
   "metadata": {},
   "outputs": [],
   "source": [
    "android_table=wiki_table[0]"
   ]
  },
  {
   "cell_type": "code",
   "execution_count": 17,
   "id": "e083a4ab-7ae7-415c-a865-f31f2093b2c8",
   "metadata": {},
   "outputs": [],
   "source": [
    "headers = android_table.findAll(\"th\")"
   ]
  },
  {
   "cell_type": "code",
   "execution_count": 21,
   "id": "abe1894f-d4e6-4f59-908e-465cbfca9503",
   "metadata": {},
   "outputs": [
    {
     "name": "stdout",
     "output_type": "stream",
     "text": [
      "['Name', 'Internal codename[11]', 'Version number(s)', 'API level', 'Release date', 'Latest security patch date[16]', 'Latest Google Play Services version[17] (release date)']\n"
     ]
    }
   ],
   "source": [
    "column_titles = [ ct.text[:-1] for ct in headers]\n",
    "print(column_titles)"
   ]
  },
  {
   "cell_type": "code",
   "execution_count": 24,
   "id": "8ee6f817-f81a-41ef-b2b0-fc2379549503",
   "metadata": {},
   "outputs": [],
   "source": [
    "rows = android_table.findAll(\"tr\")[1:]"
   ]
  },
  {
   "cell_type": "code",
   "execution_count": 51,
   "id": "fdf307ea-c92d-4cc5-9203-154f863f25bd",
   "metadata": {},
   "outputs": [],
   "source": [
    "table_rows = []\n",
    "for row in rows:\n",
    "     current_row = []\n",
    "     row_data = row.findAll(\"td\")\n",
    "     for i,data in enumerate(row_data):\n",
    "         if i == 1:\n",
    "             current_row.append(data.text[:-1].split(\": \")[-1])\n",
    "         else:\n",
    "             current_row.append(data.text[:-1])\n",
    "         # if i != 0 and i != 4:\n",
    "         #     current_row.append(data.text[:-1])\n",
    "         # else:\n",
    "         #     current_row.append(data.text)\n",
    "     table_rows.append(current_row)"
   ]
  },
  {
   "cell_type": "code",
   "execution_count": 52,
   "id": "3d862505-e5ad-460d-bd47-bdec424d1fbc",
   "metadata": {},
   "outputs": [],
   "source": [
    "filename = \"Anddroid_version_history.csv\"\n",
    "with open(filename,\"w\",encoding=\"utf-8\") as file:\n",
    "    # write headers\n",
    "    header_string = \",\".join(column_titles)\n",
    "    header_string += \"\\n\"\n",
    "    file.write(header_string)\n",
    "    for row in table_rows[:-1]:\n",
    "        row_string = \",\".join(row)\n",
    "        row_string += \"\\n\"\n",
    "        file.write(row_string)"
   ]
  },
  {
   "cell_type": "code",
   "execution_count": null,
   "id": "20d393f0-c3a1-4240-a149-18dbbab3bc3e",
   "metadata": {},
   "outputs": [],
   "source": []
  }
 ],
 "metadata": {
  "kernelspec": {
   "display_name": "Python 3 (ipykernel)",
   "language": "python",
   "name": "python3"
  },
  "language_info": {
   "codemirror_mode": {
    "name": "ipython",
    "version": 3
   },
   "file_extension": ".py",
   "mimetype": "text/x-python",
   "name": "python",
   "nbconvert_exporter": "python",
   "pygments_lexer": "ipython3",
   "version": "3.10.9"
  },
  "widgets": {
   "application/vnd.jupyter.widget-state+json": {
    "state": {},
    "version_major": 2,
    "version_minor": 0
   }
  }
 },
 "nbformat": 4,
 "nbformat_minor": 5
}
