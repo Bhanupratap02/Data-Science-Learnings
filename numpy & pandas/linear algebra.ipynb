{
 "cells": [
  {
   "cell_type": "code",
   "execution_count": 8,
   "id": "d8d78d55-4bfe-4a86-8fbb-ba0a4db6211a",
   "metadata": {},
   "outputs": [],
   "source": [
    "import numpy as np\n",
    "import matplotlib.pyplot as plt"
   ]
  },
  {
   "cell_type": "code",
   "execution_count": 22,
   "id": "8737b520-4c3f-4fa1-9af6-c82d757f6ab9",
   "metadata": {},
   "outputs": [
    {
     "name": "stdout",
     "output_type": "stream",
     "text": [
      "[[[  0   0 255]\n",
      "  [  0   0 255]\n",
      "  [  0   0 255]\n",
      "  [  0   0 255]\n",
      "  [  0   0 255]]\n",
      "\n",
      " [[  0   0 255]\n",
      "  [  0   0 255]\n",
      "  [  0   0 255]\n",
      "  [  0   0 255]\n",
      "  [  0   0 255]]\n",
      "\n",
      " [[  0   0 255]\n",
      "  [  0   0 255]\n",
      "  [  0   0 255]\n",
      "  [  0   0 255]\n",
      "  [  0   0 255]]\n",
      "\n",
      " [[  0   0 255]\n",
      "  [  0   0 255]\n",
      "  [  0   0 255]\n",
      "  [  0   0 255]\n",
      "  [  0   0 255]]\n",
      "\n",
      " [[  0   0 255]\n",
      "  [  0   0 255]\n",
      "  [  0   0 255]\n",
      "  [  0   0 255]\n",
      "  [  0   0 255]]]\n"
     ]
    }
   ],
   "source": [
    "T = np.zeros((5,5,3),dtype='uint8')\n",
    "T[:,:,2] = 255\n",
    "print(T)"
   ]
  },
  {
   "cell_type": "code",
   "execution_count": 23,
   "id": "dfd833fe-0c2c-425f-938a-3aa485006cfb",
   "metadata": {},
   "outputs": [
    {
     "data": {
      "image/png": "[encoded data removed]",
      "text/plain": [
       "<Figure size 640x480 with 1 Axes>"
      ]
     },
     "metadata": {},
     "output_type": "display_data"
    }
   ],
   "source": [
    "plt.imshow(T)\n",
    "plt.show()"
   ]
  },
  {
   "cell_type": "markdown",
   "id": "0ecba231-f2fd-4145-b37f-d517b7a5da02",
   "metadata": {},
   "source": [
    "## NORMS\n",
    "\n",
    "### lp2 norm = (x^2+y^2+..)^1/2\n",
    "### lp1 norm = |x| + |y| + ....\n",
    "### lpinfinity = largest value among the vector"
   ]
  },
  {
   "cell_type": "code",
   "execution_count": 5,
   "id": "ccfb37a0-df81-423b-8fd6-974515d5deac",
   "metadata": {},
   "outputs": [
    {
     "name": "stdout",
     "output_type": "stream",
     "text": [
      "18.0\n"
     ]
    }
   ],
   "source": [
    "x = np.array([-5,3,10])\n",
    "lp2 = np.linalg.norm(x)\n",
    "lp1 = np.linalg.norm(x,ord=1)\n",
    "print(lp1)"
   ]
  },
  {
   "cell_type": "code",
   "execution_count": 6,
   "id": "cc1b4e52-a298-4e0f-8612-8c04dc91f23e",
   "metadata": {},
   "outputs": [
    {
     "name": "stdout",
     "output_type": "stream",
     "text": [
      "10.0\n"
     ]
    }
   ],
   "source": [
    "lpinf = np.linalg.norm(x,ord=np.inf)\n",
    "print(lpinf)"
   ]
  },
  {
   "cell_type": "code",
   "execution_count": 20,
   "id": "5e4c2c8b-580e-44a7-a17f-17ea6d948c0b",
   "metadata": {},
   "outputs": [
    {
     "data": {
      "text/plain": [
       "-2.0000000000000004"
      ]
     },
     "execution_count": 20,
     "metadata": {},
     "output_type": "execute_result"
    }
   ],
   "source": [
    "# determenat\n",
    "A = np.array([[1,2],\n",
    "              [3,4]])\n",
    "np.linalg.det(A)"
   ]
  },
  {
   "cell_type": "code",
   "execution_count": 21,
   "id": "9dea3df5-5c06-4ada-816e-45d88c9dc749",
   "metadata": {},
   "outputs": [
    {
     "name": "stdout",
     "output_type": "stream",
     "text": [
      "[[1 2]\n",
      " [3 4]]\n",
      "[[-2.   1. ]\n",
      " [ 1.5 -0.5]]\n",
      "[[-2.   1. ]\n",
      " [ 1.5 -0.5]]\n",
      "[[1.0000000e+00 0.0000000e+00]\n",
      " [8.8817842e-16 1.0000000e+00]]\n"
     ]
    }
   ],
   "source": [
    "# inverse of a matrix = a.a-1 = I\n",
    "invA = np.linalg.inv(A)\n",
    "pinvA = np.linalg.pinv(A)\n",
    "print(A)\n",
    "print(invA)\n",
    "print(pinvA) # invA = pinvA when matrix A is an invertible matrix ie has non zero determenant\n",
    "print(np.dot(A,invA))"
   ]
  },
  {
   "cell_type": "code",
   "execution_count": 22,
   "id": "826e3ce3-c02b-48cd-ab3e-f00e9cf48415",
   "metadata": {},
   "outputs": [
    {
     "name": "stdout",
     "output_type": "stream",
     "text": [
      "[[0.048 0.024]\n",
      " [0.064 0.032]]\n"
     ]
    },
    {
     "data": {
      "text/plain": [
       "array([[0.8, 0.4],\n",
       "       [0.4, 0.2]])"
      ]
     },
     "execution_count": 22,
     "metadata": {},
     "output_type": "execute_result"
    }
   ],
   "source": [
    "A = np.array([[6,8],\n",
    "              [3,4]])\n",
    "pinv = np.linalg.pinv(A) # pesudo inverse is inverse of a matrix which determenat is 0\n",
    "print(pinv)\n",
    "np.dot(A,pinv)"
   ]
  },
  {
   "cell_type": "markdown",
   "id": "2b030fb8-3334-405e-b81c-d5e95e32fb5f",
   "metadata": {},
   "source": [
    "### Solve a system of linear equation\n"
   ]
  },
  {
   "cell_type": "code",
   "execution_count": null,
   "id": "c7c062c1-e8a6-4100-995b-e55f86f66543",
   "metadata": {},
   "outputs": [],
   "source": [
    "a = np.array([[2,3],[3,1]])\n",
    "b = np.array([8,5])\n",
    "\n",
    "#  equations : 2x1  + 3x2 = 8 , 3x1 + 1x2 = 5, then find "
   ]
  }
 ],
 "metadata": {
  "kernelspec": {
   "display_name": "Python 3 (ipykernel)",
   "language": "python",
   "name": "python3"
  },
  "language_info": {
   "codemirror_mode": {
    "name": "ipython",
    "version": 3
   },
   "file_extension": ".py",
   "mimetype": "text/x-python",
   "name": "python",
   "nbconvert_exporter": "python",
   "pygments_lexer": "ipython3",
   "version": "3.10.9"
  },
  "widgets": {
   "application/vnd.jupyter.widget-state+json": {
    "state": {},
    "version_major": 2,
    "version_minor": 0
   }
  }
 },
 "nbformat": 4,
 "nbformat_minor": 5
}
